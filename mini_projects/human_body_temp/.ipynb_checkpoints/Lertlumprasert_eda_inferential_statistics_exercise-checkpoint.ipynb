{
 "cells": [
  {
   "cell_type": "markdown",
   "metadata": {},
   "source": [
    "# What is the True Normal Human Body Temperature? \n",
    "\n",
    "#### Background\n",
    "\n",
    "The mean normal body temperature was held to be 37$^{\\circ}$C or 98.6$^{\\circ}$F for more than 120 years since it was first conceptualized and reported by Carl Wunderlich in a famous 1868 book. But, is this value statistically correct?"
   ]
  },
  {
   "cell_type": "markdown",
   "metadata": {},
   "source": [
    "<h3>Exercises</h3>\n",
    "\n",
    "<p>In this exercise, you will analyze a dataset of human body temperatures and employ the concepts of hypothesis testing, confidence intervals, and statistical significance.</p>\n",
    "\n",
    "<p>Answer the following questions <b>in this notebook below and submit to your Github account</b>.</p> \n",
    "\n",
    "<ol>\n",
    "<li>  Is the distribution of body temperatures normal? \n",
    "    <ul>\n",
    "    <li> Although this is not a requirement for CLT to hold (read CLT carefully), it gives us some peace of mind that the population may also be normally distributed if we assume that this sample is representative of the population.\n",
    "    </ul>\n",
    "<li>  Is the sample size large? Are the observations independent?\n",
    "    <ul>\n",
    "    <li> Remember that this is a condition for the CLT, and hence the statistical tests we are using, to apply.\n",
    "    </ul>\n",
    "<li>  Is the true population mean really 98.6 degrees F?\n",
    "    <ul>\n",
    "    <li> Would you use a one-sample or two-sample test? Why?\n",
    "    <li> In this situation, is it appropriate to use the $t$ or $z$ statistic? \n",
    "    <li> Now try using the other test. How is the result be different? Why?\n",
    "    </ul>\n",
    "<li>  Draw a small sample of size 10 from the data and repeat both tests. \n",
    "    <ul>\n",
    "    <li> Which one is the correct one to use? \n",
    "    <li> What do you notice? What does this tell you about the difference in application of the $t$ and $z$ statistic?\n",
    "    </ul>\n",
    "<li>  At what temperature should we consider someone's temperature to be \"abnormal\"?\n",
    "    <ul>\n",
    "    <li> Start by computing the margin of error and confidence interval.\n",
    "    </ul>\n",
    "<li>  Is there a significant difference between males and females in normal temperature?\n",
    "    <ul>\n",
    "    <li> What test did you use and why?\n",
    "    <li> Write a story with your conclusion in the context of the original problem.\n",
    "    </ul>\n",
    "</ol>\n",
    "\n",
    "You can include written notes in notebook cells using Markdown: \n",
    "   - In the control panel at the top, choose Cell > Cell Type > Markdown\n",
    "   - Markdown syntax: http://nestacms.com/docs/creating-content/markdown-cheat-sheet\n",
    "\n",
    "#### Resources\n",
    "\n",
    "+ Information and data sources: http://www.amstat.org/publications/jse/datasets/normtemp.txt, http://www.amstat.org/publications/jse/jse_data_archive.htm\n",
    "+ Markdown syntax: http://nestacms.com/docs/creating-content/markdown-cheat-sheet\n",
    "\n",
    "****"
   ]
  },
  {
   "cell_type": "code",
   "execution_count": 1,
   "metadata": {},
   "outputs": [
    {
     "data": {
      "text/html": [
       "<div>\n",
       "<style>\n",
       "    .dataframe thead tr:only-child th {\n",
       "        text-align: right;\n",
       "    }\n",
       "\n",
       "    .dataframe thead th {\n",
       "        text-align: left;\n",
       "    }\n",
       "\n",
       "    .dataframe tbody tr th {\n",
       "        vertical-align: top;\n",
       "    }\n",
       "</style>\n",
       "<table border=\"1\" class=\"dataframe\">\n",
       "  <thead>\n",
       "    <tr style=\"text-align: right;\">\n",
       "      <th></th>\n",
       "      <th>temperature</th>\n",
       "      <th>gender</th>\n",
       "      <th>heart_rate</th>\n",
       "    </tr>\n",
       "  </thead>\n",
       "  <tbody>\n",
       "    <tr>\n",
       "      <th>0</th>\n",
       "      <td>99.3</td>\n",
       "      <td>F</td>\n",
       "      <td>68.0</td>\n",
       "    </tr>\n",
       "    <tr>\n",
       "      <th>1</th>\n",
       "      <td>98.4</td>\n",
       "      <td>F</td>\n",
       "      <td>81.0</td>\n",
       "    </tr>\n",
       "    <tr>\n",
       "      <th>2</th>\n",
       "      <td>97.8</td>\n",
       "      <td>M</td>\n",
       "      <td>73.0</td>\n",
       "    </tr>\n",
       "    <tr>\n",
       "      <th>3</th>\n",
       "      <td>99.2</td>\n",
       "      <td>F</td>\n",
       "      <td>66.0</td>\n",
       "    </tr>\n",
       "    <tr>\n",
       "      <th>4</th>\n",
       "      <td>98.0</td>\n",
       "      <td>F</td>\n",
       "      <td>73.0</td>\n",
       "    </tr>\n",
       "  </tbody>\n",
       "</table>\n",
       "</div>"
      ],
      "text/plain": [
       "   temperature gender  heart_rate\n",
       "0         99.3      F        68.0\n",
       "1         98.4      F        81.0\n",
       "2         97.8      M        73.0\n",
       "3         99.2      F        66.0\n",
       "4         98.0      F        73.0"
      ]
     },
     "execution_count": 1,
     "metadata": {},
     "output_type": "execute_result"
    }
   ],
   "source": [
    "# Importing data\n",
    "import pandas as pd\n",
    "\n",
    "df = pd.read_csv('data/human_body_temperature.csv')\n",
    "df.head()"
   ]
  },
  {
   "cell_type": "code",
   "execution_count": 2,
   "metadata": {},
   "outputs": [
    {
     "data": {
      "image/png": "[encoded data removed]",
      "text/plain": [
       "<matplotlib.figure.Figure at 0x11b42a518>"
      ]
     },
     "metadata": {},
     "output_type": "display_data"
    }
   ],
   "source": [
    "# Plotting histogram \n",
    "import matplotlib.pyplot as plt\n",
    "import numpy as np\n",
    "\n",
    "plt.hist(data=df, x='temperature', bins=int(np.sqrt(len(df.index))))\n",
    "plt.xlabel('Temperature (f)')\n",
    "plt.ylabel('Frequency')\n",
    "plt.title('Plot 1')\n",
    "plt.show()"
   ]
  },
  {
   "cell_type": "code",
   "execution_count": 3,
   "metadata": {},
   "outputs": [
    {
     "name": "stdout",
     "output_type": "stream",
     "text": [
      "mean = 98.24923076923078\n",
      "median = 98.3\n",
      "standard deviation = 0.7303577789050377\n",
      "normal test p-value: 0.258747986349 (H0 is sample comes from a normal distribution)\n"
     ]
    }
   ],
   "source": [
    "# Calculate statistics\n",
    "from scipy.stats import mstats\n",
    "nm_test = mstats.normaltest(df.temperature)\n",
    "print('mean =', np.mean(df.temperature))\n",
    "print('median =', np.median(df.temperature))\n",
    "print('standard deviation =', np.std(df.temperature))\n",
    "print('normal test p-value:', nm_test.pvalue, '(H0 is sample comes from a normal distribution)')"
   ]
  },
  {
   "cell_type": "code",
   "execution_count": 4,
   "metadata": {},
   "outputs": [
    {
     "name": "stdout",
     "output_type": "stream",
     "text": [
      "Result-1\n",
      "\n",
      "\n",
      "H0: mean = 98.6\n",
      "H1: mean != 98.6 (two-sided)\n",
      "Test Statistic: -5.45482329236\n",
      "P-Value: 4.9021570141e-08\n"
     ]
    }
   ],
   "source": [
    "# Conducting one sample z-test\n",
    "from statsmodels.stats.weightstats import ztest, ttest_ind\n",
    "result = ztest(x1 = df.temperature,x2 =None, value = 98.6, alternative='two-sided')\n",
    "print('Result-1')\n",
    "print('\\n')\n",
    "print('H0: mean = 98.6')\n",
    "print('H1: mean != 98.6 (two-sided)')\n",
    "print('Test Statistic:', result[0])\n",
    "print('P-Value:', result[1])\n"
   ]
  },
  {
   "cell_type": "code",
   "execution_count": 5,
   "metadata": {},
   "outputs": [
    {
     "name": "stdout",
     "output_type": "stream",
     "text": [
      "Result-2\n",
      "\n",
      "\n",
      "H0: mean = 98.6\n",
      "H1: mean != 98.6 (two-sided)\n",
      "Test Statistic: -5.45482329236\n",
      "P-Value: 2.41063204156e-07\n"
     ]
    }
   ],
   "source": [
    "# Conductiong one sample t-test\n",
    "from scipy import stats\n",
    "result = stats.ttest_1samp(df.temperature, 98.6)\n",
    "print('Result-2')\n",
    "print('\\n')\n",
    "print('H0: mean = 98.6')\n",
    "print('H1: mean != 98.6 (two-sided)')\n",
    "print('Test Statistic:', result.statistic)\n",
    "print('P-Value:', result.pvalue)"
   ]
  },
  {
   "cell_type": "code",
   "execution_count": 6,
   "metadata": {},
   "outputs": [
    {
     "name": "stdout",
     "output_type": "stream",
     "text": [
      "Result-3\n",
      "\n",
      "\n",
      "H0: mean = 98.6\n",
      "H1: mean != 98.6 (two-sided)\n",
      "Test Statistic: -1.82917705545\n",
      "P-Value: 0.06737308851\n",
      "\n",
      "\n",
      "Result-4\n",
      "\n",
      "\n",
      "H0: mean = 98.6\n",
      "H1: mean != 98.6 (two-sided)\n",
      "Test Statistic: -1.82917705545\n",
      "P-Value: 0.100627013681\n"
     ]
    }
   ],
   "source": [
    "# Performing the same tests with 10 samples\n",
    "\n",
    "sample = np.random.choice(df.temperature, size=10)\n",
    "\n",
    "# Z-test\n",
    "result_z = ztest(x1 = sample,x2 =None, value = 98.6, alternative='two-sided')\n",
    "print('Result-3')\n",
    "print('\\n')\n",
    "print('H0: mean = 98.6')\n",
    "print('H1: mean != 98.6 (two-sided)')\n",
    "print('Test Statistic:', result_z[0])\n",
    "print('P-Value:', result_z[1])\n",
    "\n",
    "# T-test\n",
    "result_t = stats.ttest_1samp(sample, 98.6)\n",
    "print('\\n')\n",
    "print('Result-4')\n",
    "print('\\n')\n",
    "print('H0: mean = 98.6')\n",
    "print('H1: mean != 98.6 (two-sided)')\n",
    "print('Test Statistic:', result_t.statistic)\n",
    "print('P-Value:', result_t.pvalue)\n"
   ]
  },
  {
   "cell_type": "code",
   "execution_count": 7,
   "metadata": {},
   "outputs": [
    {
     "name": "stdout",
     "output_type": "stream",
     "text": [
      "We are 99% confident that the true mean temperature is between 98.06 and 98.44\n"
     ]
    }
   ],
   "source": [
    "# Calculating confidence interval and margin of error of the population mean\n",
    "\n",
    "# Estimating standard deviation of population\n",
    "SD_pop = np.std(df.temperature)\n",
    "# Standard deviation of sampling distribution\n",
    "SD_samdist = SD_pop / np.sqrt(len(df.index))\n",
    "# Assume confidence interval of 99.7%\n",
    "margin_err = round(SD_samdist*3, 2)\n",
    "lower = round(np.mean(df.temperature)-margin_err, 2)\n",
    "upper = round(np.mean(df.temperature)+margin_err, 2)\n",
    "print('We are 99% confident that the true mean temperature is between', lower, 'and', upper)\n"
   ]
  },
  {
   "cell_type": "code",
   "execution_count": 8,
   "metadata": {},
   "outputs": [
    {
     "name": "stdout",
     "output_type": "stream",
     "text": [
      "Result-5\n",
      "\n",
      "\n",
      "H0- m_mean - f_mean = 0\n",
      "H1- m_mean != f_mean\n",
      "p-value:  0.0112\n",
      "We are rejecting the null hypothesis of there is no difference in mean temperature between male and female\n"
     ]
    },
    {
     "data": {
      "image/png": "[encoded data removed]",
      "text/plain": [
       "<matplotlib.figure.Figure at 0x120ec7b70>"
      ]
     },
     "metadata": {},
     "output_type": "display_data"
    }
   ],
   "source": [
    "# Investigating difference between males and females \"normal\" temperature\n",
    "\n",
    "m = df.temperature[df.gender == 'M'].values\n",
    "f = df.temperature[df.gender == 'F'].values\n",
    "\n",
    "m_mean = np.mean(m)\n",
    "f_mean = np.mean(f)\n",
    "diff = f_mean - m_mean\n",
    "mean = np.mean(np.concatenate((m, f)))\n",
    "\n",
    "\n",
    "# Performing bootstrap hypothesis testing\n",
    "# H0- there's no difference in mean temperatures between female and male\n",
    "# H1- the male and female mean temperatures are statistically different\n",
    "\n",
    "# Shifting the male and female means while preserving the variances\n",
    "m_shifted = m + mean - m_mean\n",
    "f_shifted = f + mean - f_mean\n",
    "\n",
    "bs_diff = []\n",
    "for i in range(10000):\n",
    "    f_sample = np.random.choice(f_shifted, size=len(f))\n",
    "    m_sample = np.random.choice(m_shifted, size=len(f))\n",
    "    f_mean = np.mean(f_sample)\n",
    "    m_mean = np.mean(m_sample)\n",
    "    bs_diff.append(f_mean - m_mean)\n",
    "    \n",
    "p_value = (np.sum(bs_diff >= diff))/len(bs_diff)\n",
    "print('Result-5')\n",
    "print('\\n')\n",
    "print('H0- m_mean - f_mean = 0')\n",
    "print('H1- m_mean != f_mean')\n",
    "print('p-value: ', p_value)\n",
    "print('We are rejecting the null hypothesis of there is no difference in mean temperature between male and female')\n",
    "\n",
    "plt.hist(bs_diff, bins=int(np.sqrt(len(bs_diff))))\n",
    "plt.title('Sampling Distribution of Means Difference')\n",
    "plt.xlabel('mean temperature difference')\n",
    "plt.show()"
   ]
  },
  {
   "cell_type": "markdown",
   "metadata": {},
   "source": [
    "1)<br />Yes, **Plot 1** and normal test from **Result 1** shows that the distribution is approximately normal. However, it is a little left skewed.<br /><br /> 2)<br />\\-No, it's not large. Necessary sample size for very large population is usually determined by the following equation: <br /> &nbsp;&nbsp;&nbsp;&nbsp;&nbsp;&nbsp;&nbsp;&nbsp;&nbsp;&nbsp;_sample size = [(Z-score)^2 \\* StdDev \\* (1-StdDev)] / [(margin of error)^2]_ <br /> Assuming Confidence Level of 90%, Margin of Error of +/- 0.05, and Standard Deviation of 0.73, we need 213 observations to get the assumed accuracy. For the purpose of this study, we most likely would need better accuracy, which means more observations. <br /> -Yes, these are independent observations. <br /><br /> 3)<br />-Based on the sample and the small p values obtained from the tests, we are rejecting the null hypothesis of population mean being equal to 98.6. However, the sample size might not be big enough to statistically prove the hypothesis.<br /> -We're using one sample test because we're comparing the mean of a sample to a known value instead of comparing the means of two samples. <br />-We're using z-test because observation is more than 30.<br />-The result from z-test (**Result 1**) shows smaller p-value than result from t-test (**Result 2**). This means that, based on z-distribution, there's a stronger evidance that the mean temperature is not 98.6. <br /><br /> 4)<br />-T-test is the correct one to use because we're only using 10 observations in this case. <br />-We noticed that the p-values from both t-test and z-test using only 10 observations (**Result 3 & Result 4**) were more similar (1.4% difference\\*) than p-values for t-test and z-test using 130 observations (79.6% difference\\*) (**Result 1 & Result 2**). It's counter intuitive because t-test is designed for cases with small number of observations, and for cases with more than 30 observations, the z and t distributions are supposed to be very similar. However, our test results shows that the case with 10 observations had more similar results.<br /> \\* 1.4% and 98.6% difference in p-value were calculated from (z-dist - t-dist)/z-dist.<br /><br /> 5)<br />-tbd<br /><br /> 6)<br />-Bootstrap hypothesis testing (**Result 5**) shows that there is a significant difference between males and females normal temperatures. <br />-We generated 1000 bootstrap means, each from 65 bootstrap samples of both male and female body temperatures. This is because we wanted to simulate sampling distribution of the difference in mean. From there, we calculated the one tailed p-value based on the observed mean difference and bootstrap mean differences to test the null hypothesis. \n",
    "\n"
   ]
  },
  {
   "cell_type": "code",
   "execution_count": null,
   "metadata": {
    "collapsed": true
   },
   "outputs": [],
   "source": []
  }
 ],
 "metadata": {
  "kernelspec": {
   "display_name": "Python 3",
   "language": "python",
   "name": "python3"
  },
  "language_info": {
   "codemirror_mode": {
    "name": "ipython",
    "version": 3
   },
   "file_extension": ".py",
   "mimetype": "text/x-python",
   "name": "python",
   "nbconvert_exporter": "python",
   "pygments_lexer": "ipython3",
   "version": "3.6.1"
  }
 },
 "nbformat": 4,
 "nbformat_minor": 1
}
